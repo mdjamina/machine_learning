{
  "nbformat": 4,
  "nbformat_minor": 0,
  "metadata": {
    "colab": {
      "provenance": [],
      "authorship_tag": "ABX9TyPYPFUdYqwyIF8dZxc8IoPO",
      "include_colab_link": true
    },
    "kernelspec": {
      "name": "python3",
      "display_name": "Python 3"
    },
    "language_info": {
      "name": "python"
    }
  },
  "cells": [
    {
      "cell_type": "markdown",
      "metadata": {
        "id": "view-in-github",
        "colab_type": "text"
      },
      "source": [
        "<a href=\"https://colab.research.google.com/github/mdjamina/machine_learning/blob/notebook/notebook/deft09_parlement.ipynb\" target=\"_parent\"><img src=\"https://colab.research.google.com/assets/colab-badge.svg\" alt=\"Open In Colab\"/></a>"
      ]
    },
    {
      "cell_type": "markdown",
      "source": [
        "# Rapport d'Analyse de Données"
      ],
      "metadata": {
        "id": "8rpytozcZWfz"
      }
    },
    {
      "cell_type": "markdown",
      "source": [
        "## Corpus"
      ],
      "metadata": {
        "id": "sYa10wCCcm2F"
      }
    },
    {
      "cell_type": "markdown",
      "source": [],
      "metadata": {
        "id": "4B8ehPqucvGu"
      }
    },
    {
      "cell_type": "markdown",
      "source": [],
      "metadata": {
        "id": "uICzQfIMcs2-"
      }
    },
    {
      "cell_type": "markdown",
      "source": [
        "## Prétraitement des Données"
      ],
      "metadata": {
        "id": "TwJw_ZZdcRwc"
      }
    },
    {
      "cell_type": "code",
      "source": [
        "\n",
        "# Remplacer les caractères spéciaux\n",
        "def replace_characters(match: re.Match) -> str:\n",
        "    \"\"\"\n",
        "\n",
        "    Args:\n",
        "        match : caractère à remplacer\n",
        "\n",
        "    Returns:\n",
        "        str: caractère remplacé\n",
        "    \"\"\"\n",
        "    char = match.group(0)\n",
        "    replacements = {\n",
        "        '’': \"'\",\n",
        "        '´': \"'\",\n",
        "        '`': \"'\",\n",
        "        '‘': \"'\",\n",
        "        '«': '\"',\n",
        "        '»': '\"',\n",
        "        '“': '\"',\n",
        "        '”': '\"',\n",
        "        '–': '-',\n",
        "        '—': '-',\n",
        "        '…': ' ',\n",
        "        u'\\0xa0': ' ',\n",
        "\n",
        "    }\n",
        "\n",
        "    return replacements[char]\n"
      ],
      "metadata": {
        "id": "C7DQZn1ZgIo-"
      },
      "execution_count": null,
      "outputs": []
    },
    {
      "cell_type": "markdown",
      "source": [
        "### Corpus d'apprentissage"
      ],
      "metadata": {
        "id": "m4Sxa_3OftGh"
      }
    },
    {
      "cell_type": "code",
      "source": [],
      "metadata": {
        "id": "rMr9YsIZcRB1"
      },
      "execution_count": null,
      "outputs": []
    },
    {
      "cell_type": "markdown",
      "source": [
        "## Entraînement du Modèle"
      ],
      "metadata": {
        "id": "MdyJi2AtZeSv"
      }
    },
    {
      "cell_type": "code",
      "execution_count": null,
      "metadata": {
        "id": "hT5qWRtKYo5K"
      },
      "outputs": [],
      "source": []
    },
    {
      "cell_type": "markdown",
      "source": [
        "## Évaluation du Modèle"
      ],
      "metadata": {
        "id": "o-PEbV1wceqc"
      }
    },
    {
      "cell_type": "code",
      "source": [],
      "metadata": {
        "id": "K0YZ040Sci_z"
      },
      "execution_count": null,
      "outputs": []
    },
    {
      "cell_type": "markdown",
      "source": [],
      "metadata": {
        "id": "TW_DQpEmcjS9"
      }
    }
  ]
}