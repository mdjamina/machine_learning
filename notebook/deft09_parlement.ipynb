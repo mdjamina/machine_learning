{
  "cells": [
    {
      "cell_type": "markdown",
      "metadata": {
        "colab_type": "text",
        "id": "view-in-github"
      },
      "source": [
        "<a href=\"https://colab.research.google.com/github/mdjamina/machine_learning/blob/notebook/notebook/deft09_parlement.ipynb\" target=\"_parent\"><img src=\"https://colab.research.google.com/assets/colab-badge.svg\" alt=\"Open In Colab\"/></a>"
      ]
    },
    {
      "cell_type": "code",
      "execution_count": 2,
      "metadata": {
        "id": "V2939qeheloD"
      },
      "outputs": [],
      "source": [
        "from pathlib import Path\n",
        "import re\n",
        "import pandas as pd"
      ]
    },
    {
      "cell_type": "markdown",
      "metadata": {
        "id": "8rpytozcZWfz"
      },
      "source": [
        "# Rapport d'analyse des données"
      ]
    },
    {
      "cell_type": "markdown",
      "metadata": {
        "id": "sYa10wCCcm2F"
      },
      "source": [
        "## Corpus"
      ]
    },
    {
      "cell_type": "markdown",
      "metadata": {
        "id": "TwJw_ZZdcRwc"
      },
      "source": [
        "## Prétraitement des données"
      ]
    },
    {
      "cell_type": "markdown",
      "metadata": {
        "id": "U77kJywCeloK"
      },
      "source": [
        "### Corpus d'apprentissage"
      ]
    },
    {
      "cell_type": "code",
      "execution_count": 3,
      "metadata": {
        "id": "k8Pw8ZoReloK"
      },
      "outputs": [],
      "source": [
        "data_dir = '/content/'\n",
        "train_file_path = data_dir + 'deft09_parlement_appr_fr.xml'\n",
        "tests_file_path = data_dir +'deft09_parlement_test_fr.xml'\n",
        "ref_file_path = data_dir +'deft09_parlement_ref_fr.txt'\n"
      ]
    },
    {
      "cell_type": "markdown",
      "metadata": {
        "id": "AUio-bQTeloO"
      },
      "source": [
        "### Nettoyage des données"
      ]
    },
    {
      "cell_type": "code",
      "execution_count": 7,
      "metadata": {
        "id": "C7DQZn1ZgIo-"
      },
      "outputs": [],
      "source": [
        "\n",
        "# Remplacer les caractères spéciaux\n",
        "# cette permet de remplacer les caractères spéciaux\n",
        "\n",
        "\n",
        "def replace_match(match: re.Match) -> str:\n",
        "\n",
        "    char = match.group(0)\n",
        "    replacements = {'<anonyme />':'ANONYME','’': \"'\",'´': \"'\",'`': \"'\",'‘': \"'\",'«': '\"','»': '\"','“': '\"','”': '\"','–': '-','—': '-','…': ' ',u'\\xa0': ' ',}\n",
        "\n",
        "    return replacements[char]\n",
        "\n"
      ]
    },
    {
      "cell_type": "markdown",
      "metadata": {
        "id": "IjNJBvaZeloQ"
      },
      "source": [
        "#### corpus d'apprentissage"
      ]
    },
    {
      "cell_type": "code",
      "execution_count": 8,
      "metadata": {
        "colab": {
          "base_uri": "https://localhost:8080/"
        },
        "id": "dkN_C-aheloQ",
        "outputId": "211a5d6b-9e8a-4b14-b236-c1054e2dd731"
      },
      "outputs": [
        {
          "name": "stdout",
          "output_type": "stream",
          "text": [
            "/content/deft09_parlement_appr_fr_fix.xml\n"
          ]
        }
      ],
      "source": [
        "#Corriger le fichier train\n",
        "pathfile = Path(train_file_path)\n",
        "if not pathfile.exists():\n",
        "    raise FileNotFoundError(f\"{pathfile} not found\")\n",
        "\n",
        "pathfile_fix = pathfile.parent / f\"{pathfile.stem}_fix{pathfile.suffix}\"\n",
        "\n",
        "with pathfile.open('r') as f:\n",
        "    pattern = re.compile(r'<anonyme\\s*/>|[’´`‘«»“”–—…]')\n",
        "    content = re.sub(pattern, replace_match, f.read()).strip()\n",
        "    with pathfile_fix.open('w') as f2:\n",
        "        f2.write(content)\n",
        "train_file_path = str(pathfile_fix)\n",
        "print(train_file_path)"
      ]
    },
    {
      "cell_type": "markdown",
      "metadata": {
        "id": "_wKeID_deloR"
      },
      "source": [
        "#### corpus de test"
      ]
    },
    {
      "cell_type": "code",
      "execution_count": 9,
      "metadata": {
        "colab": {
          "base_uri": "https://localhost:8080/"
        },
        "id": "-x3wV5XGeloR",
        "outputId": "0a2db0cf-4f5d-4404-fb29-061236d42224"
      },
      "outputs": [
        {
          "name": "stdout",
          "output_type": "stream",
          "text": [
            "/content/deft09_parlement_test_fr_fix.xml\n"
          ]
        }
      ],
      "source": [
        "#Corriger le fichier test\n",
        "pathfile = Path(tests_file_path)\n",
        "if not pathfile.exists():\n",
        "    raise FileNotFoundError(f\"{pathfile} not found\")\n",
        "\n",
        "pathfile_fix = pathfile.parent / f\"{pathfile.stem}_fix{pathfile.suffix}\"\n",
        "\n",
        "with pathfile.open('r') as f:\n",
        "    pattern = re.compile(r'<anonyme\\s*/>|[’´`‘«»“”–—…]')\n",
        "    content = re.sub(pattern, replace_match, f.read()).strip()\n",
        "    with pathfile_fix.open('w') as f2:\n",
        "        f2.write(content)\n",
        "tests_file_path = str(pathfile_fix)\n",
        "print(tests_file_path)\n"
      ]
    },
    {
      "cell_type": "markdown",
      "metadata": {
        "id": "m4Sxa_3OftGh"
      },
      "source": [
        "### Chargement des données"
      ]
    },
    {
      "cell_type": "code",
      "execution_count": 10,
      "metadata": {
        "id": "rMr9YsIZcRB1"
      },
      "outputs": [],
      "source": [
        "from lxml import etree as et\n",
        "\n",
        "#Parser le fichier xml\n",
        "def parser(pathfile: str) -> list:\n",
        "\n",
        "    # Parser le fichier XML avec lxml pour plus de performance\n",
        "    tree = et.parse(pathfile)\n",
        "\n",
        "    # Récupérer la racine du fichier XML\n",
        "    root = tree.getroot()\n",
        "\n",
        "    # Utiliser tqdm pour afficher la barre de progression\n",
        "    for doc in root.findall('.//doc'):\n",
        "        id_doc: str = doc.attrib['id']\n",
        "        parti = None\n",
        "        if doc.find('.//PARTI') is not None:\n",
        "            parti = doc.find('.//PARTI').attrib['valeur']\n",
        "        text = \" \".join(p.text for p in doc.findall('.//p') if p.text)\n",
        "\n",
        "        yield id_doc, parti, text\n"
      ]
    },
    {
      "cell_type": "markdown",
      "metadata": {
        "id": "ecvtcpf0eloT"
      },
      "source": [
        "#### corpus d'apprentissage\n"
      ]
    },
    {
      "cell_type": "code",
      "execution_count": 11,
      "metadata": {
        "colab": {
          "base_uri": "https://localhost:8080/",
          "height": 206
        },
        "id": "dd4AJkuaeloU",
        "outputId": "4a327c46-1a92-4deb-a1ed-82943b3b1f85"
      },
      "outputs": [
        {
          "data": {
            "text/html": [
              "\n",
              "  <div id=\"df-89719623-6263-42b4-8865-dd94555489bf\" class=\"colab-df-container\">\n",
              "    <div>\n",
              "<style scoped>\n",
              "    .dataframe tbody tr th:only-of-type {\n",
              "        vertical-align: middle;\n",
              "    }\n",
              "\n",
              "    .dataframe tbody tr th {\n",
              "        vertical-align: top;\n",
              "    }\n",
              "\n",
              "    .dataframe thead th {\n",
              "        text-align: right;\n",
              "    }\n",
              "</style>\n",
              "<table border=\"1\" class=\"dataframe\">\n",
              "  <thead>\n",
              "    <tr style=\"text-align: right;\">\n",
              "      <th></th>\n",
              "      <th>id</th>\n",
              "      <th>parti</th>\n",
              "      <th>text</th>\n",
              "    </tr>\n",
              "  </thead>\n",
              "  <tbody>\n",
              "    <tr>\n",
              "      <th>0</th>\n",
              "      <td>2_fr:1</td>\n",
              "      <td>Verts-ALE</td>\n",
              "      <td>Monsieur le Président, j'ai toujours fait preu...</td>\n",
              "    </tr>\n",
              "    <tr>\n",
              "      <th>1</th>\n",
              "      <td>2_fr:2</td>\n",
              "      <td>PPE-DE</td>\n",
              "      <td>Madame la Présidente, chers collègues, à l'app...</td>\n",
              "    </tr>\n",
              "    <tr>\n",
              "      <th>2</th>\n",
              "      <td>2_fr:3</td>\n",
              "      <td>Verts-ALE</td>\n",
              "      <td>Je voudrais savoir si l'Union européenne, à la...</td>\n",
              "    </tr>\n",
              "    <tr>\n",
              "      <th>3</th>\n",
              "      <td>2_fr:4</td>\n",
              "      <td>PSE</td>\n",
              "      <td>Madame la Présidente, au nom des ANONYME de la...</td>\n",
              "    </tr>\n",
              "    <tr>\n",
              "      <th>4</th>\n",
              "      <td>2_fr:5</td>\n",
              "      <td>PSE</td>\n",
              "      <td>Monsieur le Président, chers collègues, Monsie...</td>\n",
              "    </tr>\n",
              "  </tbody>\n",
              "</table>\n",
              "</div>\n",
              "    <div class=\"colab-df-buttons\">\n",
              "\n",
              "  <div class=\"colab-df-container\">\n",
              "    <button class=\"colab-df-convert\" onclick=\"convertToInteractive('df-89719623-6263-42b4-8865-dd94555489bf')\"\n",
              "            title=\"Convert this dataframe to an interactive table.\"\n",
              "            style=\"display:none;\">\n",
              "\n",
              "  <svg xmlns=\"http://www.w3.org/2000/svg\" height=\"24px\" viewBox=\"0 -960 960 960\">\n",
              "    <path d=\"M120-120v-720h720v720H120Zm60-500h600v-160H180v160Zm220 220h160v-160H400v160Zm0 220h160v-160H400v160ZM180-400h160v-160H180v160Zm440 0h160v-160H620v160ZM180-180h160v-160H180v160Zm440 0h160v-160H620v160Z\"/>\n",
              "  </svg>\n",
              "    </button>\n",
              "\n",
              "  <style>\n",
              "    .colab-df-container {\n",
              "      display:flex;\n",
              "      gap: 12px;\n",
              "    }\n",
              "\n",
              "    .colab-df-convert {\n",
              "      background-color: #E8F0FE;\n",
              "      border: none;\n",
              "      border-radius: 50%;\n",
              "      cursor: pointer;\n",
              "      display: none;\n",
              "      fill: #1967D2;\n",
              "      height: 32px;\n",
              "      padding: 0 0 0 0;\n",
              "      width: 32px;\n",
              "    }\n",
              "\n",
              "    .colab-df-convert:hover {\n",
              "      background-color: #E2EBFA;\n",
              "      box-shadow: 0px 1px 2px rgba(60, 64, 67, 0.3), 0px 1px 3px 1px rgba(60, 64, 67, 0.15);\n",
              "      fill: #174EA6;\n",
              "    }\n",
              "\n",
              "    .colab-df-buttons div {\n",
              "      margin-bottom: 4px;\n",
              "    }\n",
              "\n",
              "    [theme=dark] .colab-df-convert {\n",
              "      background-color: #3B4455;\n",
              "      fill: #D2E3FC;\n",
              "    }\n",
              "\n",
              "    [theme=dark] .colab-df-convert:hover {\n",
              "      background-color: #434B5C;\n",
              "      box-shadow: 0px 1px 3px 1px rgba(0, 0, 0, 0.15);\n",
              "      filter: drop-shadow(0px 1px 2px rgba(0, 0, 0, 0.3));\n",
              "      fill: #FFFFFF;\n",
              "    }\n",
              "  </style>\n",
              "\n",
              "    <script>\n",
              "      const buttonEl =\n",
              "        document.querySelector('#df-89719623-6263-42b4-8865-dd94555489bf button.colab-df-convert');\n",
              "      buttonEl.style.display =\n",
              "        google.colab.kernel.accessAllowed ? 'block' : 'none';\n",
              "\n",
              "      async function convertToInteractive(key) {\n",
              "        const element = document.querySelector('#df-89719623-6263-42b4-8865-dd94555489bf');\n",
              "        const dataTable =\n",
              "          await google.colab.kernel.invokeFunction('convertToInteractive',\n",
              "                                                    [key], {});\n",
              "        if (!dataTable) return;\n",
              "\n",
              "        const docLinkHtml = 'Like what you see? Visit the ' +\n",
              "          '<a target=\"_blank\" href=https://colab.research.google.com/notebooks/data_table.ipynb>data table notebook</a>'\n",
              "          + ' to learn more about interactive tables.';\n",
              "        element.innerHTML = '';\n",
              "        dataTable['output_type'] = 'display_data';\n",
              "        await google.colab.output.renderOutput(dataTable, element);\n",
              "        const docLink = document.createElement('div');\n",
              "        docLink.innerHTML = docLinkHtml;\n",
              "        element.appendChild(docLink);\n",
              "      }\n",
              "    </script>\n",
              "  </div>\n",
              "\n",
              "\n",
              "<div id=\"df-7be94471-e359-426a-8ecd-4957ef5bd830\">\n",
              "  <button class=\"colab-df-quickchart\" onclick=\"quickchart('df-7be94471-e359-426a-8ecd-4957ef5bd830')\"\n",
              "            title=\"Suggest charts\"\n",
              "            style=\"display:none;\">\n",
              "\n",
              "<svg xmlns=\"http://www.w3.org/2000/svg\" height=\"24px\"viewBox=\"0 0 24 24\"\n",
              "     width=\"24px\">\n",
              "    <g>\n",
              "        <path d=\"M19 3H5c-1.1 0-2 .9-2 2v14c0 1.1.9 2 2 2h14c1.1 0 2-.9 2-2V5c0-1.1-.9-2-2-2zM9 17H7v-7h2v7zm4 0h-2V7h2v10zm4 0h-2v-4h2v4z\"/>\n",
              "    </g>\n",
              "</svg>\n",
              "  </button>\n",
              "\n",
              "<style>\n",
              "  .colab-df-quickchart {\n",
              "      --bg-color: #E8F0FE;\n",
              "      --fill-color: #1967D2;\n",
              "      --hover-bg-color: #E2EBFA;\n",
              "      --hover-fill-color: #174EA6;\n",
              "      --disabled-fill-color: #AAA;\n",
              "      --disabled-bg-color: #DDD;\n",
              "  }\n",
              "\n",
              "  [theme=dark] .colab-df-quickchart {\n",
              "      --bg-color: #3B4455;\n",
              "      --fill-color: #D2E3FC;\n",
              "      --hover-bg-color: #434B5C;\n",
              "      --hover-fill-color: #FFFFFF;\n",
              "      --disabled-bg-color: #3B4455;\n",
              "      --disabled-fill-color: #666;\n",
              "  }\n",
              "\n",
              "  .colab-df-quickchart {\n",
              "    background-color: var(--bg-color);\n",
              "    border: none;\n",
              "    border-radius: 50%;\n",
              "    cursor: pointer;\n",
              "    display: none;\n",
              "    fill: var(--fill-color);\n",
              "    height: 32px;\n",
              "    padding: 0;\n",
              "    width: 32px;\n",
              "  }\n",
              "\n",
              "  .colab-df-quickchart:hover {\n",
              "    background-color: var(--hover-bg-color);\n",
              "    box-shadow: 0 1px 2px rgba(60, 64, 67, 0.3), 0 1px 3px 1px rgba(60, 64, 67, 0.15);\n",
              "    fill: var(--button-hover-fill-color);\n",
              "  }\n",
              "\n",
              "  .colab-df-quickchart-complete:disabled,\n",
              "  .colab-df-quickchart-complete:disabled:hover {\n",
              "    background-color: var(--disabled-bg-color);\n",
              "    fill: var(--disabled-fill-color);\n",
              "    box-shadow: none;\n",
              "  }\n",
              "\n",
              "  .colab-df-spinner {\n",
              "    border: 2px solid var(--fill-color);\n",
              "    border-color: transparent;\n",
              "    border-bottom-color: var(--fill-color);\n",
              "    animation:\n",
              "      spin 1s steps(1) infinite;\n",
              "  }\n",
              "\n",
              "  @keyframes spin {\n",
              "    0% {\n",
              "      border-color: transparent;\n",
              "      border-bottom-color: var(--fill-color);\n",
              "      border-left-color: var(--fill-color);\n",
              "    }\n",
              "    20% {\n",
              "      border-color: transparent;\n",
              "      border-left-color: var(--fill-color);\n",
              "      border-top-color: var(--fill-color);\n",
              "    }\n",
              "    30% {\n",
              "      border-color: transparent;\n",
              "      border-left-color: var(--fill-color);\n",
              "      border-top-color: var(--fill-color);\n",
              "      border-right-color: var(--fill-color);\n",
              "    }\n",
              "    40% {\n",
              "      border-color: transparent;\n",
              "      border-right-color: var(--fill-color);\n",
              "      border-top-color: var(--fill-color);\n",
              "    }\n",
              "    60% {\n",
              "      border-color: transparent;\n",
              "      border-right-color: var(--fill-color);\n",
              "    }\n",
              "    80% {\n",
              "      border-color: transparent;\n",
              "      border-right-color: var(--fill-color);\n",
              "      border-bottom-color: var(--fill-color);\n",
              "    }\n",
              "    90% {\n",
              "      border-color: transparent;\n",
              "      border-bottom-color: var(--fill-color);\n",
              "    }\n",
              "  }\n",
              "</style>\n",
              "\n",
              "  <script>\n",
              "    async function quickchart(key) {\n",
              "      const quickchartButtonEl =\n",
              "        document.querySelector('#' + key + ' button');\n",
              "      quickchartButtonEl.disabled = true;  // To prevent multiple clicks.\n",
              "      quickchartButtonEl.classList.add('colab-df-spinner');\n",
              "      try {\n",
              "        const charts = await google.colab.kernel.invokeFunction(\n",
              "            'suggestCharts', [key], {});\n",
              "      } catch (error) {\n",
              "        console.error('Error during call to suggestCharts:', error);\n",
              "      }\n",
              "      quickchartButtonEl.classList.remove('colab-df-spinner');\n",
              "      quickchartButtonEl.classList.add('colab-df-quickchart-complete');\n",
              "    }\n",
              "    (() => {\n",
              "      let quickchartButtonEl =\n",
              "        document.querySelector('#df-7be94471-e359-426a-8ecd-4957ef5bd830 button');\n",
              "      quickchartButtonEl.style.display =\n",
              "        google.colab.kernel.accessAllowed ? 'block' : 'none';\n",
              "    })();\n",
              "  </script>\n",
              "</div>\n",
              "    </div>\n",
              "  </div>\n"
            ],
            "text/plain": [
              "       id      parti                                               text\n",
              "0  2_fr:1  Verts-ALE  Monsieur le Président, j'ai toujours fait preu...\n",
              "1  2_fr:2     PPE-DE  Madame la Présidente, chers collègues, à l'app...\n",
              "2  2_fr:3  Verts-ALE  Je voudrais savoir si l'Union européenne, à la...\n",
              "3  2_fr:4        PSE  Madame la Présidente, au nom des ANONYME de la...\n",
              "4  2_fr:5        PSE  Monsieur le Président, chers collègues, Monsie..."
            ]
          },
          "execution_count": 11,
          "metadata": {},
          "output_type": "execute_result"
        }
      ],
      "source": [
        "\n",
        "data_train = pd.DataFrame(parser(str(train_file_path)), columns=['id', 'parti', 'text'])\n",
        "data_train.head()"
      ]
    },
    {
      "cell_type": "markdown",
      "metadata": {
        "id": "D7_4KGDleloU"
      },
      "source": [
        "#### Corpus de test"
      ]
    },
    {
      "cell_type": "code",
      "execution_count": 12,
      "metadata": {
        "colab": {
          "base_uri": "https://localhost:8080/",
          "height": 237
        },
        "id": "aQAOsXxyeloU",
        "outputId": "55c66731-eef2-449e-bf82-c4642d1cfaa4"
      },
      "outputs": [
        {
          "data": {
            "text/html": [
              "\n",
              "  <div id=\"df-49fd9c5e-4ed0-4b0b-a8ed-1898c26203de\" class=\"colab-df-container\">\n",
              "    <div>\n",
              "<style scoped>\n",
              "    .dataframe tbody tr th:only-of-type {\n",
              "        vertical-align: middle;\n",
              "    }\n",
              "\n",
              "    .dataframe tbody tr th {\n",
              "        vertical-align: top;\n",
              "    }\n",
              "\n",
              "    .dataframe thead th {\n",
              "        text-align: right;\n",
              "    }\n",
              "</style>\n",
              "<table border=\"1\" class=\"dataframe\">\n",
              "  <thead>\n",
              "    <tr style=\"text-align: right;\">\n",
              "      <th></th>\n",
              "      <th>text</th>\n",
              "    </tr>\n",
              "    <tr>\n",
              "      <th>index</th>\n",
              "      <th></th>\n",
              "    </tr>\n",
              "  </thead>\n",
              "  <tbody>\n",
              "    <tr>\n",
              "      <th>1</th>\n",
              "      <td>Monsieur le Président, l'accès à des médias li...</td>\n",
              "    </tr>\n",
              "    <tr>\n",
              "      <th>2</th>\n",
              "      <td>Monsieur le Président, j'ai un point de vue di...</td>\n",
              "    </tr>\n",
              "    <tr>\n",
              "      <th>3</th>\n",
              "      <td>Monsieur le Président, Monsieur le Commissaire...</td>\n",
              "    </tr>\n",
              "    <tr>\n",
              "      <th>4</th>\n",
              "      <td>Nous ne pouvons soutenir cette tentative d'éri...</td>\n",
              "    </tr>\n",
              "    <tr>\n",
              "      <th>5</th>\n",
              "      <td>Monsieur le Président, ce court débat se dérou...</td>\n",
              "    </tr>\n",
              "  </tbody>\n",
              "</table>\n",
              "</div>\n",
              "    <div class=\"colab-df-buttons\">\n",
              "\n",
              "  <div class=\"colab-df-container\">\n",
              "    <button class=\"colab-df-convert\" onclick=\"convertToInteractive('df-49fd9c5e-4ed0-4b0b-a8ed-1898c26203de')\"\n",
              "            title=\"Convert this dataframe to an interactive table.\"\n",
              "            style=\"display:none;\">\n",
              "\n",
              "  <svg xmlns=\"http://www.w3.org/2000/svg\" height=\"24px\" viewBox=\"0 -960 960 960\">\n",
              "    <path d=\"M120-120v-720h720v720H120Zm60-500h600v-160H180v160Zm220 220h160v-160H400v160Zm0 220h160v-160H400v160ZM180-400h160v-160H180v160Zm440 0h160v-160H620v160ZM180-180h160v-160H180v160Zm440 0h160v-160H620v160Z\"/>\n",
              "  </svg>\n",
              "    </button>\n",
              "\n",
              "  <style>\n",
              "    .colab-df-container {\n",
              "      display:flex;\n",
              "      gap: 12px;\n",
              "    }\n",
              "\n",
              "    .colab-df-convert {\n",
              "      background-color: #E8F0FE;\n",
              "      border: none;\n",
              "      border-radius: 50%;\n",
              "      cursor: pointer;\n",
              "      display: none;\n",
              "      fill: #1967D2;\n",
              "      height: 32px;\n",
              "      padding: 0 0 0 0;\n",
              "      width: 32px;\n",
              "    }\n",
              "\n",
              "    .colab-df-convert:hover {\n",
              "      background-color: #E2EBFA;\n",
              "      box-shadow: 0px 1px 2px rgba(60, 64, 67, 0.3), 0px 1px 3px 1px rgba(60, 64, 67, 0.15);\n",
              "      fill: #174EA6;\n",
              "    }\n",
              "\n",
              "    .colab-df-buttons div {\n",
              "      margin-bottom: 4px;\n",
              "    }\n",
              "\n",
              "    [theme=dark] .colab-df-convert {\n",
              "      background-color: #3B4455;\n",
              "      fill: #D2E3FC;\n",
              "    }\n",
              "\n",
              "    [theme=dark] .colab-df-convert:hover {\n",
              "      background-color: #434B5C;\n",
              "      box-shadow: 0px 1px 3px 1px rgba(0, 0, 0, 0.15);\n",
              "      filter: drop-shadow(0px 1px 2px rgba(0, 0, 0, 0.3));\n",
              "      fill: #FFFFFF;\n",
              "    }\n",
              "  </style>\n",
              "\n",
              "    <script>\n",
              "      const buttonEl =\n",
              "        document.querySelector('#df-49fd9c5e-4ed0-4b0b-a8ed-1898c26203de button.colab-df-convert');\n",
              "      buttonEl.style.display =\n",
              "        google.colab.kernel.accessAllowed ? 'block' : 'none';\n",
              "\n",
              "      async function convertToInteractive(key) {\n",
              "        const element = document.querySelector('#df-49fd9c5e-4ed0-4b0b-a8ed-1898c26203de');\n",
              "        const dataTable =\n",
              "          await google.colab.kernel.invokeFunction('convertToInteractive',\n",
              "                                                    [key], {});\n",
              "        if (!dataTable) return;\n",
              "\n",
              "        const docLinkHtml = 'Like what you see? Visit the ' +\n",
              "          '<a target=\"_blank\" href=https://colab.research.google.com/notebooks/data_table.ipynb>data table notebook</a>'\n",
              "          + ' to learn more about interactive tables.';\n",
              "        element.innerHTML = '';\n",
              "        dataTable['output_type'] = 'display_data';\n",
              "        await google.colab.output.renderOutput(dataTable, element);\n",
              "        const docLink = document.createElement('div');\n",
              "        docLink.innerHTML = docLinkHtml;\n",
              "        element.appendChild(docLink);\n",
              "      }\n",
              "    </script>\n",
              "  </div>\n",
              "\n",
              "\n",
              "<div id=\"df-6721eafa-6a6a-43c8-9439-77d263c30f19\">\n",
              "  <button class=\"colab-df-quickchart\" onclick=\"quickchart('df-6721eafa-6a6a-43c8-9439-77d263c30f19')\"\n",
              "            title=\"Suggest charts\"\n",
              "            style=\"display:none;\">\n",
              "\n",
              "<svg xmlns=\"http://www.w3.org/2000/svg\" height=\"24px\"viewBox=\"0 0 24 24\"\n",
              "     width=\"24px\">\n",
              "    <g>\n",
              "        <path d=\"M19 3H5c-1.1 0-2 .9-2 2v14c0 1.1.9 2 2 2h14c1.1 0 2-.9 2-2V5c0-1.1-.9-2-2-2zM9 17H7v-7h2v7zm4 0h-2V7h2v10zm4 0h-2v-4h2v4z\"/>\n",
              "    </g>\n",
              "</svg>\n",
              "  </button>\n",
              "\n",
              "<style>\n",
              "  .colab-df-quickchart {\n",
              "      --bg-color: #E8F0FE;\n",
              "      --fill-color: #1967D2;\n",
              "      --hover-bg-color: #E2EBFA;\n",
              "      --hover-fill-color: #174EA6;\n",
              "      --disabled-fill-color: #AAA;\n",
              "      --disabled-bg-color: #DDD;\n",
              "  }\n",
              "\n",
              "  [theme=dark] .colab-df-quickchart {\n",
              "      --bg-color: #3B4455;\n",
              "      --fill-color: #D2E3FC;\n",
              "      --hover-bg-color: #434B5C;\n",
              "      --hover-fill-color: #FFFFFF;\n",
              "      --disabled-bg-color: #3B4455;\n",
              "      --disabled-fill-color: #666;\n",
              "  }\n",
              "\n",
              "  .colab-df-quickchart {\n",
              "    background-color: var(--bg-color);\n",
              "    border: none;\n",
              "    border-radius: 50%;\n",
              "    cursor: pointer;\n",
              "    display: none;\n",
              "    fill: var(--fill-color);\n",
              "    height: 32px;\n",
              "    padding: 0;\n",
              "    width: 32px;\n",
              "  }\n",
              "\n",
              "  .colab-df-quickchart:hover {\n",
              "    background-color: var(--hover-bg-color);\n",
              "    box-shadow: 0 1px 2px rgba(60, 64, 67, 0.3), 0 1px 3px 1px rgba(60, 64, 67, 0.15);\n",
              "    fill: var(--button-hover-fill-color);\n",
              "  }\n",
              "\n",
              "  .colab-df-quickchart-complete:disabled,\n",
              "  .colab-df-quickchart-complete:disabled:hover {\n",
              "    background-color: var(--disabled-bg-color);\n",
              "    fill: var(--disabled-fill-color);\n",
              "    box-shadow: none;\n",
              "  }\n",
              "\n",
              "  .colab-df-spinner {\n",
              "    border: 2px solid var(--fill-color);\n",
              "    border-color: transparent;\n",
              "    border-bottom-color: var(--fill-color);\n",
              "    animation:\n",
              "      spin 1s steps(1) infinite;\n",
              "  }\n",
              "\n",
              "  @keyframes spin {\n",
              "    0% {\n",
              "      border-color: transparent;\n",
              "      border-bottom-color: var(--fill-color);\n",
              "      border-left-color: var(--fill-color);\n",
              "    }\n",
              "    20% {\n",
              "      border-color: transparent;\n",
              "      border-left-color: var(--fill-color);\n",
              "      border-top-color: var(--fill-color);\n",
              "    }\n",
              "    30% {\n",
              "      border-color: transparent;\n",
              "      border-left-color: var(--fill-color);\n",
              "      border-top-color: var(--fill-color);\n",
              "      border-right-color: var(--fill-color);\n",
              "    }\n",
              "    40% {\n",
              "      border-color: transparent;\n",
              "      border-right-color: var(--fill-color);\n",
              "      border-top-color: var(--fill-color);\n",
              "    }\n",
              "    60% {\n",
              "      border-color: transparent;\n",
              "      border-right-color: var(--fill-color);\n",
              "    }\n",
              "    80% {\n",
              "      border-color: transparent;\n",
              "      border-right-color: var(--fill-color);\n",
              "      border-bottom-color: var(--fill-color);\n",
              "    }\n",
              "    90% {\n",
              "      border-color: transparent;\n",
              "      border-bottom-color: var(--fill-color);\n",
              "    }\n",
              "  }\n",
              "</style>\n",
              "\n",
              "  <script>\n",
              "    async function quickchart(key) {\n",
              "      const quickchartButtonEl =\n",
              "        document.querySelector('#' + key + ' button');\n",
              "      quickchartButtonEl.disabled = true;  // To prevent multiple clicks.\n",
              "      quickchartButtonEl.classList.add('colab-df-spinner');\n",
              "      try {\n",
              "        const charts = await google.colab.kernel.invokeFunction(\n",
              "            'suggestCharts', [key], {});\n",
              "      } catch (error) {\n",
              "        console.error('Error during call to suggestCharts:', error);\n",
              "      }\n",
              "      quickchartButtonEl.classList.remove('colab-df-spinner');\n",
              "      quickchartButtonEl.classList.add('colab-df-quickchart-complete');\n",
              "    }\n",
              "    (() => {\n",
              "      let quickchartButtonEl =\n",
              "        document.querySelector('#df-6721eafa-6a6a-43c8-9439-77d263c30f19 button');\n",
              "      quickchartButtonEl.style.display =\n",
              "        google.colab.kernel.accessAllowed ? 'block' : 'none';\n",
              "    })();\n",
              "  </script>\n",
              "</div>\n",
              "    </div>\n",
              "  </div>\n"
            ],
            "text/plain": [
              "                                                    text\n",
              "index                                                   \n",
              "1      Monsieur le Président, l'accès à des médias li...\n",
              "2      Monsieur le Président, j'ai un point de vue di...\n",
              "3      Monsieur le Président, Monsieur le Commissaire...\n",
              "4      Nous ne pouvons soutenir cette tentative d'éri...\n",
              "5      Monsieur le Président, ce court débat se dérou..."
            ]
          },
          "execution_count": 12,
          "metadata": {},
          "output_type": "execute_result"
        }
      ],
      "source": [
        "data_tests = pd.DataFrame([(id_doc,text) for id_doc,_,text in parser(str(tests_file_path))], columns=['index', 'text'])\n",
        "data_tests = data_tests.set_index('index')\n",
        "\n",
        "data_tests.head()"
      ]
    },
    {
      "cell_type": "markdown",
      "metadata": {
        "id": "IItbItN5eloV"
      },
      "source": [
        "#### Données références"
      ]
    },
    {
      "cell_type": "code",
      "execution_count": 13,
      "metadata": {
        "colab": {
          "base_uri": "https://localhost:8080/",
          "height": 237
        },
        "id": "RA3_vq-TeloV",
        "outputId": "5380f2aa-cd0d-4fb8-876b-cb8140cdd7b0"
      },
      "outputs": [
        {
          "data": {
            "text/html": [
              "\n",
              "  <div id=\"df-b03e742f-e32e-4a20-8eea-b0f387e08bd5\" class=\"colab-df-container\">\n",
              "    <div>\n",
              "<style scoped>\n",
              "    .dataframe tbody tr th:only-of-type {\n",
              "        vertical-align: middle;\n",
              "    }\n",
              "\n",
              "    .dataframe tbody tr th {\n",
              "        vertical-align: top;\n",
              "    }\n",
              "\n",
              "    .dataframe thead th {\n",
              "        text-align: right;\n",
              "    }\n",
              "</style>\n",
              "<table border=\"1\" class=\"dataframe\">\n",
              "  <thead>\n",
              "    <tr style=\"text-align: right;\">\n",
              "      <th></th>\n",
              "      <th>parti</th>\n",
              "    </tr>\n",
              "    <tr>\n",
              "      <th>index</th>\n",
              "      <th></th>\n",
              "    </tr>\n",
              "  </thead>\n",
              "  <tbody>\n",
              "    <tr>\n",
              "      <th>1</th>\n",
              "      <td>ELDR</td>\n",
              "    </tr>\n",
              "    <tr>\n",
              "      <th>2</th>\n",
              "      <td>GUE-NGL</td>\n",
              "    </tr>\n",
              "    <tr>\n",
              "      <th>3</th>\n",
              "      <td>PPE-DE</td>\n",
              "    </tr>\n",
              "    <tr>\n",
              "      <th>4</th>\n",
              "      <td>GUE-NGL</td>\n",
              "    </tr>\n",
              "    <tr>\n",
              "      <th>5</th>\n",
              "      <td>PPE-DE</td>\n",
              "    </tr>\n",
              "  </tbody>\n",
              "</table>\n",
              "</div>\n",
              "    <div class=\"colab-df-buttons\">\n",
              "\n",
              "  <div class=\"colab-df-container\">\n",
              "    <button class=\"colab-df-convert\" onclick=\"convertToInteractive('df-b03e742f-e32e-4a20-8eea-b0f387e08bd5')\"\n",
              "            title=\"Convert this dataframe to an interactive table.\"\n",
              "            style=\"display:none;\">\n",
              "\n",
              "  <svg xmlns=\"http://www.w3.org/2000/svg\" height=\"24px\" viewBox=\"0 -960 960 960\">\n",
              "    <path d=\"M120-120v-720h720v720H120Zm60-500h600v-160H180v160Zm220 220h160v-160H400v160Zm0 220h160v-160H400v160ZM180-400h160v-160H180v160Zm440 0h160v-160H620v160ZM180-180h160v-160H180v160Zm440 0h160v-160H620v160Z\"/>\n",
              "  </svg>\n",
              "    </button>\n",
              "\n",
              "  <style>\n",
              "    .colab-df-container {\n",
              "      display:flex;\n",
              "      gap: 12px;\n",
              "    }\n",
              "\n",
              "    .colab-df-convert {\n",
              "      background-color: #E8F0FE;\n",
              "      border: none;\n",
              "      border-radius: 50%;\n",
              "      cursor: pointer;\n",
              "      display: none;\n",
              "      fill: #1967D2;\n",
              "      height: 32px;\n",
              "      padding: 0 0 0 0;\n",
              "      width: 32px;\n",
              "    }\n",
              "\n",
              "    .colab-df-convert:hover {\n",
              "      background-color: #E2EBFA;\n",
              "      box-shadow: 0px 1px 2px rgba(60, 64, 67, 0.3), 0px 1px 3px 1px rgba(60, 64, 67, 0.15);\n",
              "      fill: #174EA6;\n",
              "    }\n",
              "\n",
              "    .colab-df-buttons div {\n",
              "      margin-bottom: 4px;\n",
              "    }\n",
              "\n",
              "    [theme=dark] .colab-df-convert {\n",
              "      background-color: #3B4455;\n",
              "      fill: #D2E3FC;\n",
              "    }\n",
              "\n",
              "    [theme=dark] .colab-df-convert:hover {\n",
              "      background-color: #434B5C;\n",
              "      box-shadow: 0px 1px 3px 1px rgba(0, 0, 0, 0.15);\n",
              "      filter: drop-shadow(0px 1px 2px rgba(0, 0, 0, 0.3));\n",
              "      fill: #FFFFFF;\n",
              "    }\n",
              "  </style>\n",
              "\n",
              "    <script>\n",
              "      const buttonEl =\n",
              "        document.querySelector('#df-b03e742f-e32e-4a20-8eea-b0f387e08bd5 button.colab-df-convert');\n",
              "      buttonEl.style.display =\n",
              "        google.colab.kernel.accessAllowed ? 'block' : 'none';\n",
              "\n",
              "      async function convertToInteractive(key) {\n",
              "        const element = document.querySelector('#df-b03e742f-e32e-4a20-8eea-b0f387e08bd5');\n",
              "        const dataTable =\n",
              "          await google.colab.kernel.invokeFunction('convertToInteractive',\n",
              "                                                    [key], {});\n",
              "        if (!dataTable) return;\n",
              "\n",
              "        const docLinkHtml = 'Like what you see? Visit the ' +\n",
              "          '<a target=\"_blank\" href=https://colab.research.google.com/notebooks/data_table.ipynb>data table notebook</a>'\n",
              "          + ' to learn more about interactive tables.';\n",
              "        element.innerHTML = '';\n",
              "        dataTable['output_type'] = 'display_data';\n",
              "        await google.colab.output.renderOutput(dataTable, element);\n",
              "        const docLink = document.createElement('div');\n",
              "        docLink.innerHTML = docLinkHtml;\n",
              "        element.appendChild(docLink);\n",
              "      }\n",
              "    </script>\n",
              "  </div>\n",
              "\n",
              "\n",
              "<div id=\"df-28e0a11b-89bb-472c-b903-7d8af7263854\">\n",
              "  <button class=\"colab-df-quickchart\" onclick=\"quickchart('df-28e0a11b-89bb-472c-b903-7d8af7263854')\"\n",
              "            title=\"Suggest charts\"\n",
              "            style=\"display:none;\">\n",
              "\n",
              "<svg xmlns=\"http://www.w3.org/2000/svg\" height=\"24px\"viewBox=\"0 0 24 24\"\n",
              "     width=\"24px\">\n",
              "    <g>\n",
              "        <path d=\"M19 3H5c-1.1 0-2 .9-2 2v14c0 1.1.9 2 2 2h14c1.1 0 2-.9 2-2V5c0-1.1-.9-2-2-2zM9 17H7v-7h2v7zm4 0h-2V7h2v10zm4 0h-2v-4h2v4z\"/>\n",
              "    </g>\n",
              "</svg>\n",
              "  </button>\n",
              "\n",
              "<style>\n",
              "  .colab-df-quickchart {\n",
              "      --bg-color: #E8F0FE;\n",
              "      --fill-color: #1967D2;\n",
              "      --hover-bg-color: #E2EBFA;\n",
              "      --hover-fill-color: #174EA6;\n",
              "      --disabled-fill-color: #AAA;\n",
              "      --disabled-bg-color: #DDD;\n",
              "  }\n",
              "\n",
              "  [theme=dark] .colab-df-quickchart {\n",
              "      --bg-color: #3B4455;\n",
              "      --fill-color: #D2E3FC;\n",
              "      --hover-bg-color: #434B5C;\n",
              "      --hover-fill-color: #FFFFFF;\n",
              "      --disabled-bg-color: #3B4455;\n",
              "      --disabled-fill-color: #666;\n",
              "  }\n",
              "\n",
              "  .colab-df-quickchart {\n",
              "    background-color: var(--bg-color);\n",
              "    border: none;\n",
              "    border-radius: 50%;\n",
              "    cursor: pointer;\n",
              "    display: none;\n",
              "    fill: var(--fill-color);\n",
              "    height: 32px;\n",
              "    padding: 0;\n",
              "    width: 32px;\n",
              "  }\n",
              "\n",
              "  .colab-df-quickchart:hover {\n",
              "    background-color: var(--hover-bg-color);\n",
              "    box-shadow: 0 1px 2px rgba(60, 64, 67, 0.3), 0 1px 3px 1px rgba(60, 64, 67, 0.15);\n",
              "    fill: var(--button-hover-fill-color);\n",
              "  }\n",
              "\n",
              "  .colab-df-quickchart-complete:disabled,\n",
              "  .colab-df-quickchart-complete:disabled:hover {\n",
              "    background-color: var(--disabled-bg-color);\n",
              "    fill: var(--disabled-fill-color);\n",
              "    box-shadow: none;\n",
              "  }\n",
              "\n",
              "  .colab-df-spinner {\n",
              "    border: 2px solid var(--fill-color);\n",
              "    border-color: transparent;\n",
              "    border-bottom-color: var(--fill-color);\n",
              "    animation:\n",
              "      spin 1s steps(1) infinite;\n",
              "  }\n",
              "\n",
              "  @keyframes spin {\n",
              "    0% {\n",
              "      border-color: transparent;\n",
              "      border-bottom-color: var(--fill-color);\n",
              "      border-left-color: var(--fill-color);\n",
              "    }\n",
              "    20% {\n",
              "      border-color: transparent;\n",
              "      border-left-color: var(--fill-color);\n",
              "      border-top-color: var(--fill-color);\n",
              "    }\n",
              "    30% {\n",
              "      border-color: transparent;\n",
              "      border-left-color: var(--fill-color);\n",
              "      border-top-color: var(--fill-color);\n",
              "      border-right-color: var(--fill-color);\n",
              "    }\n",
              "    40% {\n",
              "      border-color: transparent;\n",
              "      border-right-color: var(--fill-color);\n",
              "      border-top-color: var(--fill-color);\n",
              "    }\n",
              "    60% {\n",
              "      border-color: transparent;\n",
              "      border-right-color: var(--fill-color);\n",
              "    }\n",
              "    80% {\n",
              "      border-color: transparent;\n",
              "      border-right-color: var(--fill-color);\n",
              "      border-bottom-color: var(--fill-color);\n",
              "    }\n",
              "    90% {\n",
              "      border-color: transparent;\n",
              "      border-bottom-color: var(--fill-color);\n",
              "    }\n",
              "  }\n",
              "</style>\n",
              "\n",
              "  <script>\n",
              "    async function quickchart(key) {\n",
              "      const quickchartButtonEl =\n",
              "        document.querySelector('#' + key + ' button');\n",
              "      quickchartButtonEl.disabled = true;  // To prevent multiple clicks.\n",
              "      quickchartButtonEl.classList.add('colab-df-spinner');\n",
              "      try {\n",
              "        const charts = await google.colab.kernel.invokeFunction(\n",
              "            'suggestCharts', [key], {});\n",
              "      } catch (error) {\n",
              "        console.error('Error during call to suggestCharts:', error);\n",
              "      }\n",
              "      quickchartButtonEl.classList.remove('colab-df-spinner');\n",
              "      quickchartButtonEl.classList.add('colab-df-quickchart-complete');\n",
              "    }\n",
              "    (() => {\n",
              "      let quickchartButtonEl =\n",
              "        document.querySelector('#df-28e0a11b-89bb-472c-b903-7d8af7263854 button');\n",
              "      quickchartButtonEl.style.display =\n",
              "        google.colab.kernel.accessAllowed ? 'block' : 'none';\n",
              "    })();\n",
              "  </script>\n",
              "</div>\n",
              "    </div>\n",
              "  </div>\n"
            ],
            "text/plain": [
              "         parti\n",
              "index         \n",
              "1         ELDR\n",
              "2      GUE-NGL\n",
              "3       PPE-DE\n",
              "4      GUE-NGL\n",
              "5       PPE-DE"
            ]
          },
          "execution_count": 13,
          "metadata": {},
          "output_type": "execute_result"
        }
      ],
      "source": [
        "data_ref = pd.read_csv(ref_file_path, sep='\\t', header=None, names=['index', 'parti'])\n",
        "data_ref = data_ref.set_index('index')\n",
        "\n",
        "data_ref.head()"
      ]
    },
    {
      "cell_type": "markdown",
      "metadata": {
        "id": "BQuGZ2fBeloV"
      },
      "source": [
        "### Prétraitement des données"
      ]
    },
    {
      "cell_type": "markdown",
      "metadata": {
        "id": "2cCx5wBdeloW"
      },
      "source": [
        "#### chargement du modèle spacy"
      ]
    },
    {
      "cell_type": "markdown",
      "metadata": {
        "id": "c_RqLjBxeloW"
      },
      "source": [
        "#### Prérequis\n",
        "\n",
        "* installation des packages\n",
        "\n",
        "```bash\n",
        "pip install spacy\n",
        "```    \n",
        "\n",
        "* téléchargement du modèle\n",
        "\n",
        "```bash\n",
        "python -m spacy download fr_core_news_lg\n",
        "```"
      ]
    },
    {
      "cell_type": "code",
      "execution_count": null,
      "metadata": {
        "id": "1xS1LD_ShIeZ"
      },
      "outputs": [],
      "source": [
        "!python -m spacy download fr_core_news_lg"
      ]
    },
    {
      "cell_type": "code",
      "execution_count": 16,
      "metadata": {
        "colab": {
          "base_uri": "https://localhost:8080/"
        },
        "id": "SOYh4G3qeloW",
        "outputId": "2940f18b-02f8-45b2-ad5f-5aa7e66ed9f2"
      },
      "outputs": [
        {
          "data": {
            "text/plain": [
              "['tok2vec', 'morphologizer', 'parser', 'attribute_ruler', 'lemmatizer', 'ner']"
            ]
          },
          "execution_count": 16,
          "metadata": {},
          "output_type": "execute_result"
        }
      ],
      "source": [
        "import spacy\n",
        "\n",
        "disable = [\"vectors\", \"senter\", \"textcat\"]\n",
        "\n",
        "nlp = spacy.load('fr_core_news_lg', disable=disable)\n",
        "\n",
        "nlp.pipe_names"
      ]
    },
    {
      "cell_type": "code",
      "execution_count": 17,
      "metadata": {
        "id": "H1pw-8U1eloX"
      },
      "outputs": [],
      "source": [
        "\n",
        "from spacy.lang.fr.stop_words import STOP_WORDS\n",
        "\n",
        "def lemmatization(text: str, stop_words=True, pos:list = None) -> list:\n",
        "\n",
        "    #doc = nlp(text)\n",
        "\n",
        "    document = []\n",
        "\n",
        "    for token in nlp(text):\n",
        "        is_stop= any([token.lemma_ in STOP_WORDS,\n",
        "                       token.text in STOP_WORDS,\n",
        "                       token.is_stop,\n",
        "                       token.is_punct,\n",
        "                       token.is_space,\n",
        "                       token.is_digit\n",
        "                       ])\n",
        "        if ( stop_words and is_stop):\n",
        "            continue\n",
        "        if pos and token.pos_ not in pos:\n",
        "            continue\n",
        "        document.append(token.lemma_.lower())\n",
        "\n",
        "    # return document, entities\n",
        "    return \" \".join(document)\n"
      ]
    },
    {
      "cell_type": "code",
      "execution_count": 18,
      "metadata": {
        "colab": {
          "base_uri": "https://localhost:8080/",
          "height": 54
        },
        "id": "mPWc31oQeloX",
        "outputId": "768ba52d-6bca-4dcc-ce2c-79ea05b563b2"
      },
      "outputs": [
        {
          "data": {
            "application/vnd.google.colaboratory.intrinsic+json": {
              "type": "string"
            },
            "text/plain": [
              "'encourager permettre éviter pouvoir soutenir répondre soulever exprimer soumettre voir retarder devo'"
            ]
          },
          "execution_count": 18,
          "metadata": {},
          "output_type": "execute_result"
        }
      ],
      "source": [
        "lemmatization(data_train['text'][0],pos=['VERB'])[:100]"
      ]
    },
    {
      "cell_type": "markdown",
      "metadata": {
        "id": "MdyJi2AtZeSv"
      },
      "source": [
        "## Entraînement du modèle"
      ]
    },
    {
      "cell_type": "markdown",
      "metadata": {
        "id": "CbKsZdMIeloY"
      },
      "source": [
        "#### corpus d'apprentissage"
      ]
    },
    {
      "cell_type": "code",
      "execution_count": 45,
      "metadata": {
        "colab": {
          "base_uri": "https://localhost:8080/"
        },
        "id": "MDg7uOmQeloY",
        "outputId": "a04513c8-dc1a-4a2f-f591-c96d7ec8fe69"
      },
      "outputs": [
        {
          "data": {
            "text/plain": [
              "array(['Verts-ALE', 'PPE-DE', 'Verts-ALE', 'PSE', 'PSE'], dtype=object)"
            ]
          },
          "execution_count": 45,
          "metadata": {},
          "output_type": "execute_result"
        }
      ],
      "source": [
        "y_train = data_train['parti'].to_numpy()\n",
        "y_train[:5]"
      ]
    },
    {
      "cell_type": "code",
      "execution_count": null,
      "metadata": {
        "id": "B2U5HNYVeloZ"
      },
      "outputs": [],
      "source": [
        "x_train = data_train['text'].apply(lambda x: lemmatization(x)).to_numpy()\n"
      ]
    },
    {
      "cell_type": "code",
      "execution_count": 62,
      "metadata": {
        "colab": {
          "base_uri": "https://localhost:8080/"
        },
        "id": "CAXlY3ssqdNF",
        "outputId": "909c1e80-c06e-403c-addf-ac7c660e4d75"
      },
      "outputs": [
        {
          "data": {
            "text/plain": [
              "array([\"monsieur président preuve scepticisme comportement moraliste policier encourager carrément délation permettre éviter fraude biais création instrument contrôle envahissant rapport pouvoir certainement groupe soutenir conviction rapport président napolitano modification règlement proposition décision répondre sérieusement préoccupation soulever récemment dell' alba dernier exprimer soumettre député contrôle excessif arbitraire voir aucun raison retarder davantage décision abus devoir produire parlement européen député disposer large possibilité défendre procédure interne transparent clair évidemment chose facile devoir confiance travail futur olaf devoir faciliter action manière pouvoir réagir crédible instrumentalisation pouvoir faire preuve efficacité agir répondre genre situation aujourd'hui theato bösch\",\n",
              "       'monsieur président cher collègue approche moment sombre année réjouissant évoquer heure vouloir attirer attention rituel réglage montre répéter printemps automne utilité diviser opinion contacter éleveur bétail souligner important assurer bien-être vache laitier production laitier sérénité ruminant troubler maladie vache falloir accroître stress perturber rythme habituel vache changement rythme prendre jour difficulté exister agriculture automne battage heure indique humidité matinal devoir disparaître surprise nature conforme directive rythme naturel animal dynamisme homme dépendre partiellement luminosité perturber cause problème supplémentaire considérer communiqué commission établir irréfutable nécessité heure estime maintien pratique reconsidérer vite discutable heure devoir terminer temps mois novembre souvenir refroidir europe nord blanc neige raisonnable mettre terme heure septembre mois début croire totalement opposer heure présente côté positif vouloir demander commission évaluation critique nécessité maintien ultérieur heure pouvoir passer heure pourtant prêt renoncer temps estival chaud heureusement homme politique décider',\n",
              "       'vouloir savoir union européen lumière information transmettre intervenir auprès nations fournir minimum réponse constructif statut venir peuple sahraoui année promettre référendum discussion mener impasse créer situation difficile beaucoup vivre camp réfugié union européen travers monsieur président intervenir lettre auprès nations exprimer préoccupation important dossier'],\n",
              "      dtype=object)"
            ]
          },
          "execution_count": 62,
          "metadata": {},
          "output_type": "execute_result"
        }
      ],
      "source": [
        "x_train[:3]"
      ]
    },
    {
      "cell_type": "markdown",
      "metadata": {
        "id": "wZci-q6GeloZ"
      },
      "source": [
        "#### Modèle de classification"
      ]
    },
    {
      "cell_type": "code",
      "execution_count": 46,
      "metadata": {
        "id": "hv4Se1CKeloZ"
      },
      "outputs": [],
      "source": [
        "from joblib import Memory\n",
        "mem = Memory(location=\"/tmp/cachedir\", verbose=1)"
      ]
    },
    {
      "cell_type": "code",
      "execution_count": 72,
      "metadata": {
        "id": "iNu7WY2peloa"
      },
      "outputs": [],
      "source": [
        "from sklearn.svm import LinearSVC\n",
        "from sklearn.naive_bayes import MultinomialNB\n",
        "from sklearn.tree import DecisionTreeClassifier\n",
        "from sklearn.ensemble import RandomForestClassifier\n",
        "from sklearn.feature_extraction.text import TfidfVectorizer\n",
        "from sklearn.pipeline import Pipeline\n",
        "\n",
        "\n",
        "tTfidVec = ('TfidfVectorizer', TfidfVectorizer(lowercase=False, max_df=0.95, min_df=10,sublinear_tf=True))\n",
        "\n",
        "pipelines = {\n",
        "    'LinearSVC': Pipeline([tTfidVec, ('LinearSVC', LinearSVC(max_iter=10000)) ])\n",
        "    ,'MultinomialNB' :Pipeline([tTfidVec,('MultinomialNB', MultinomialNB()) ])\n",
        "    , 'DecisionTreeClassifier': Pipeline([tTfidVec,('DecisionTreeClassifier', DecisionTreeClassifier()) ])\n",
        "    , 'RandomForestClassifier': Pipeline([tTfidVec,('RandomForestClassifier', RandomForestClassifier()) ])\n",
        "\n",
        "}\n",
        "\n",
        "\n",
        "models = {}\n",
        "for title,clf in pipelines.items():\n",
        "  model = clf.fit(x_train, y_train)\n",
        "  models[title] = model"
      ]
    },
    {
      "cell_type": "markdown",
      "metadata": {
        "id": "KXxTbXKZelo4"
      },
      "source": [
        "#### entrainement du modèle"
      ]
    },
    {
      "cell_type": "code",
      "execution_count": 73,
      "metadata": {
        "id": "n3Y7JhUdelo4"
      },
      "outputs": [],
      "source": [
        "\n",
        "# Sauvegarder les modèles\n",
        "from joblib import dump, load\n",
        "for title, model in models.items():\n",
        "    dump(model, f'{title}.joblib')\n",
        "\n"
      ]
    },
    {
      "cell_type": "code",
      "execution_count": null,
      "metadata": {},
      "outputs": [],
      "source": [
        "# Charger les modèles\n",
        "models = {}\n",
        "for title in pipelines.keys():\n",
        "    models[title] = load(f'{title}.joblib')\n",
        "    \n",
        "models.keys()"
      ]
    },
    {
      "cell_type": "markdown",
      "metadata": {
        "id": "o-PEbV1wceqc"
      },
      "source": [
        "## Évaluation du modèle"
      ]
    },
    {
      "cell_type": "code",
      "execution_count": 76,
      "metadata": {
        "id": "K0YZ040Sci_z"
      },
      "outputs": [],
      "source": [
        "x_test = data_tests['text'].apply(lambda x: lemmatization(x)).to_numpy()\n",
        "y_test = data_ref['parti'].to_numpy()"
      ]
    },
    {
      "cell_type": "code",
      "execution_count": null,
      "metadata": {
        "id": "ugOoXEOIelo5"
      },
      "outputs": [],
      "source": [
        "from sklearn import metrics\n",
        "\n",
        "for title, model in models.items():\n",
        "    predictions = model.predict(x_test)\n",
        "    print(title)\n",
        "    print(metrics.classification_report(y_test, predictions, output_dict=False))\n",
        "    print('confusion_matrix')\n",
        "    print(metrics.confusion_matrix(y_test, predictions))\n",
        "    print('accuracy_score')\n",
        "    print(metrics.accuracy_score(y_test, predictions))\n",
        "    print('precision_score')\n",
        "    print(metrics.precision_score(y_test, predictions, average='macro'))\n",
        "    print('recall_score')\n",
        "    print(metrics.recall_score(y_test, predictions, average='macro'))\n",
        "    print('f1_score')\n",
        "    print(metrics.f1_score(y_test, predictions, average='macro'))\n"
      ]
    },
    {
      "cell_type": "markdown",
      "metadata": {
        "id": "md1PZ6BJelo5"
      },
      "source": [
        "### affichage des résultats\n",
        "\n"
      ]
    },
    {
      "cell_type": "code",
      "execution_count": 67,
      "metadata": {
        "colab": {
          "base_uri": "https://localhost:8080/"
        },
        "id": "l-Ie6n8-uXgs",
        "outputId": "3fb17123-2003-44ea-8acf-fdfb51a6a9ed"
      },
      "outputs": [
        {
          "data": {
            "text/plain": [
              "array([\"Monsieur le Président, l'accès à des médias libres dans un débat ouvert et libre est l'une des pierres angulaires d'une société libre et démocratique. Les dictateurs de par le monde l'ont toujours su. Toutes les sociétés, tous les États qui répriment leur propre presse ne recherchent qu'une seule chose : faire taire le débat et asphyxier la démocratie, la communication ouverte et libre. Cela se manifeste tous les jours en Serbie. Les quelques stations de télévision et de radios indépendantes serbes subissent des tracasseries et sont pourchassées, pour finir par être totalement fermées. M. Milosevic menace le Monténégro, il s'en prend à la faible opposition serbe, il s'infiltre au Kosovo. M. Milosevic et ses complices doivent s'en aller, la démocratie doit être sauvegardée. Je voudrais dès lors poser une question au commissaire Nielson. Que fait-il et que fait l'UE pour faire en sorte que M. Milosevic soit traduit en justice devant la Cour internationale de justice de La Haye. C'est une honte pour l'humanité que les crimes de guerre de Milosevic n'aient pas été jugés devant un tribunal et qu'il puisse continuer à s'en prendre à la paix, à la liberté, à la démocratie et à la liberté de la presse. \\xa0\"],\n",
              "      dtype=object)"
            ]
          },
          "execution_count": 67,
          "metadata": {},
          "output_type": "execute_result"
        }
      ],
      "source": [
        "x_test[:1]"
      ]
    },
    {
      "cell_type": "code",
      "execution_count": 69,
      "metadata": {
        "colab": {
          "base_uri": "https://localhost:8080/"
        },
        "id": "ydBU4-UUvHHl",
        "outputId": "a93aa89a-025e-422d-ca41-333de3c7f9e2"
      },
      "outputs": [
        {
          "data": {
            "text/plain": [
              "array(['ELDR', 'GUE-NGL', 'PPE-DE'], dtype=object)"
            ]
          },
          "execution_count": 69,
          "metadata": {},
          "output_type": "execute_result"
        }
      ],
      "source": [
        "y_test[:3]"
      ]
    },
    {
      "cell_type": "code",
      "execution_count": 77,
      "metadata": {
        "colab": {
          "base_uri": "https://localhost:8080/",
          "height": 494
        },
        "id": "4Xo-gF5yelo6",
        "outputId": "b1bd9ffd-7123-4f3c-f155-1653709aad13"
      },
      "outputs": [
        {
          "data": {
            "image/png": "[encoded data removed]",
            "text/plain": [
              "<Figure size 1000x600 with 1 Axes>"
            ]
          },
          "metadata": {},
          "output_type": "display_data"
        }
      ],
      "source": [
        "import matplotlib.pyplot as plt\n",
        "import numpy as np\n",
        "\n",
        "\n",
        "\n",
        "# Compter la fréquence de chaque étiquette\n",
        "labels, counts = np.unique(y_test, return_counts=True)\n",
        "\n",
        "# Création du graphique à barres\n",
        "plt.figure(figsize=(10, 6))\n",
        "plt.bar(labels, counts, color='skyblue')\n",
        "\n",
        "# Ajout des titres et des labels\n",
        "plt.title('Fréquence des étiquettes dans y_test')\n",
        "plt.xlabel('Étiquettes')\n",
        "plt.ylabel('Fréquence')\n",
        "plt.xticks(rotation=45)  # Rotation des étiquettes de l'axe des x pour une meilleure lisibilité\n",
        "\n",
        "# Affichage du graphique\n",
        "plt.tight_layout()  # Ajuste automatiquement les paramètres pour que tout soit bien ajusté dans la figure\n",
        "plt.show()\n"
      ]
    },
    {
      "cell_type": "code",
      "execution_count": 78,
      "metadata": {
        "colab": {
          "base_uri": "https://localhost:8080/",
          "height": 529
        },
        "id": "kvThD-h6wWTK",
        "outputId": "1f91a9eb-4c38-4bd7-95b5-653b3daef9b8"
      },
      "outputs": [
        {
          "name": "stderr",
          "output_type": "stream",
          "text": [
            "/usr/local/lib/python3.10/dist-packages/sklearn/metrics/_classification.py:1344: UndefinedMetricWarning: Precision is ill-defined and being set to 0.0 in labels with no predicted samples. Use `zero_division` parameter to control this behavior.\n",
            "  _warn_prf(average, modifier, msg_start, len(result))\n"
          ]
        },
        {
          "data": {
            "image/png": "[encoded data removed]",
            "text/plain": [
              "<Figure size 1400x800 with 1 Axes>"
            ]
          },
          "metadata": {},
          "output_type": "display_data"
        }
      ],
      "source": [
        "from sklearn import metrics\n",
        "import matplotlib.pyplot as plt\n",
        "\n",
        "\n",
        "# Initialisation d'un dictionnaire pour stocker les métriques pour chaque modèle\n",
        "model_metrics = {}\n",
        "\n",
        "# Calcul des métriques pour chaque modèle\n",
        "for title, model in models.items():\n",
        "    predictions = model.predict(x_test)\n",
        "    model_metrics[title] = {\n",
        "        'accuracy': metrics.accuracy_score(y_test, predictions),\n",
        "        'precision': metrics.precision_score(y_test, predictions, average='macro'),\n",
        "        'recall': metrics.recall_score(y_test, predictions, average='macro'),\n",
        "        'f1': metrics.f1_score(y_test, predictions, average='macro')\n",
        "    }\n",
        "\n",
        "# Fonction pour tracer les graphiques à barres pour chaque métrique\n",
        "def plot_metric_comparison(metrics_dict):\n",
        "    labels = list(metrics_dict.keys())\n",
        "    accuracy_scores = [m['accuracy'] for m in metrics_dict.values()]\n",
        "    precision_scores = [m['precision'] for m in metrics_dict.values()]\n",
        "    recall_scores = [m['recall'] for m in metrics_dict.values()]\n",
        "    f1_scores = [m['f1'] for m in metrics_dict.values()]\n",
        "\n",
        "    x = np.arange(len(labels))  # localisation des labels\n",
        "    width = 0.2  # largeur des barres\n",
        "\n",
        "    fig, ax = plt.subplots(figsize=(14, 8))\n",
        "\n",
        "    # Création des barres pour chaque métrique\n",
        "    rects1 = ax.bar(x - width*1.5, accuracy_scores, width, label='Accuracy')\n",
        "    rects2 = ax.bar(x - width/2, precision_scores, width, label='Precision')\n",
        "    rects3 = ax.bar(x + width/2, recall_scores, width, label='Recall')\n",
        "    rects4 = ax.bar(x + width*1.5, f1_scores, width, label='F1 Score')\n",
        "\n",
        "    # Ajout de textes pour les labels, titre et axes personnalisés\n",
        "    ax.set_ylabel('Scores')\n",
        "    ax.set_title('Comparaison des métriques par modèle')\n",
        "    ax.set_xticks(x)\n",
        "    ax.set_xticklabels(labels)\n",
        "    ax.legend()\n",
        "\n",
        "    # Fonction pour attacher une étiquette au-dessus de chaque barre\n",
        "    def autolabel(rects):\n",
        "        \"\"\"Attach a text label above each bar in *rects*, displaying its height.\"\"\"\n",
        "        for rect in rects:\n",
        "            height = rect.get_height()\n",
        "            ax.annotate('{}'.format(round(height, 2)),\n",
        "                        xy=(rect.get_x() + rect.get_width() / 2, height),\n",
        "                        xytext=(0, 3),  # 3 points vertical offset\n",
        "                        textcoords=\"offset points\",\n",
        "                        ha='center', va='bottom')\n",
        "\n",
        "    # Attacher les étiquettes\n",
        "    autolabel(rects1)\n",
        "    autolabel(rects2)\n",
        "    autolabel(rects3)\n",
        "    autolabel(rects4)\n",
        "\n",
        "    fig.tight_layout()\n",
        "\n",
        "    plt.show()\n",
        "\n",
        "# Appel de la fonction avec le dictionnaire de métriques\n",
        "plot_metric_comparison(model_metrics)\n",
        "\n",
        "\n"
      ]
    },
    {
      "cell_type": "markdown",
      "metadata": {
        "id": "TW_DQpEmcjS9"
      },
      "source": []
    }
  ],
  "metadata": {
    "accelerator": "GPU",
    "colab": {
      "gpuType": "T4",
      "include_colab_link": true,
      "provenance": []
    },
    "kernelspec": {
      "display_name": "Python 3",
      "name": "python3"
    },
    "language_info": {
      "codemirror_mode": {
        "name": "ipython",
        "version": 3
      },
      "file_extension": ".py",
      "mimetype": "text/x-python",
      "name": "python",
      "nbconvert_exporter": "python",
      "pygments_lexer": "ipython3",
      "version": "3.10.12"
    }
  },
  "nbformat": 4,
  "nbformat_minor": 0
}
